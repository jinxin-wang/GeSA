{
 "cells": [
  {
   "cell_type": "code",
   "execution_count": 29,
   "id": "9563f1a5-bfae-4279-9596-88c54437ae13",
   "metadata": {},
   "outputs": [],
   "source": [
    "import os \n",
    "import re\n",
    "import glob\n",
    "import time\n",
    "import datetime\n",
    "from math import ceil"
   ]
  },
  {
   "cell_type": "code",
   "execution_count": 2,
   "id": "913bb6ad-ff45-450c-a856-7f8ac093f223",
   "metadata": {},
   "outputs": [],
   "source": [
    "working_dir = \"/mnt/beegfs/scratch/j_wang/03_Results/04_XP_skin/20231023_human_WGS_TvN\""
   ]
  },
  {
   "cell_type": "code",
   "execution_count": 3,
   "id": "24a3d17d-1c52-4617-b581-3c3ebf9f2948",
   "metadata": {},
   "outputs": [],
   "source": [
    "slurm_logs_list = glob.glob(f\"{working_dir}/logs/slurm/slurm.36*.n*.out\")"
   ]
  },
  {
   "cell_type": "code",
   "execution_count": 4,
   "id": "4db32775-dbb4-45dc-a8da-29075c2d8d0f",
   "metadata": {},
   "outputs": [],
   "source": [
    "exec_time_stat_dict = {}\n",
    "for slog in slurm_logs_list:\n",
    "    with open(slog) as fd:\n",
    "        content = fd.read().split('\\n') \n",
    "        start_time = None\n",
    "        end_time   = None\n",
    "        exec_time  = -1\n",
    "        rule_name  = None\n",
    "        for line in content:\n",
    "            rule_line = re.findall(r\"^rule\\s[\\w]+:\", line) \n",
    "            if len(rule_line) == 1 :\n",
    "                rule_name = re.split(\" |:\", rule_line[0])[1]\n",
    "\n",
    "            time_line = re.findall(r\"^\\[\\w+\\s\\w+\\s\\d+\\s\\d+:\\d+:\\d+\\s\\d+\\]\", line.strip())\n",
    "            if len(time_line) == 1 :\n",
    "                s = time_line[0][1:-1]\n",
    "                if start_time == None :\n",
    "                    start_time = time.mktime(datetime.datetime.strptime(s, \"%a %b %d %H:%M:%S %Y\").timetuple())\n",
    "                elif end_time == None :\n",
    "                    end_time  = time.mktime(datetime.datetime.strptime(s, \"%a %b %d %H:%M:%S %Y\").timetuple())\n",
    "                    exec_time = (end_time - start_time) \n",
    "        if rule_name in exec_time_stat_dict:\n",
    "            exec_time_stat_dict[rule_name].append(exec_time)\n",
    "        else:\n",
    "            exec_time_stat_dict[rule_name] = [exec_time]\n",
    "        "
   ]
  },
  {
   "cell_type": "code",
   "execution_count": 32,
   "id": "45c97d54-d841-4c41-a2a3-5350b11b4ba2",
   "metadata": {},
   "outputs": [
    {
     "name": "stdout",
     "output_type": "stream",
     "text": [
      "HaplotypeCaller:\t28 minutes \n",
      "samtools_flagstat:\t15 minutes \n",
      "Mutect2:\t25 minutes \n",
      "fastqc_clean:\t50 minutes \n",
      "indexbam_before_recal:\t34 minutes \n",
      "collect_Hs_metrics:\t38 minutes \n",
      "indexbam_after_recal:\t18 minutes \n",
      "fastqc_raw:\t52 minutes \n",
      "Filter_By_Orientation_Bias:\t1 minutes \n",
      "apply_bqsr_pass1:\t162 minutes \n",
      "calculate_contamination:\t1 minutes \n",
      "fastp_PE:\t238 minutes \n",
      "filter_mutect_calls:\t1 minutes \n",
      "bwa_map:\t187 minutes \n",
      "reformat_bam:\t27 minutes \n",
      "facets_snp_pilleup:\t65 minutes \n",
      "concatenate_mutect2:\t1 minutes \n",
      "Collect_Sequencing_Artifact_Metrics:\t99 minutes \n",
      "remove_duplicate:\t133 minutes \n",
      "HaplotypeCaller_filtering:\t47 minutes \n",
      "concatenate_mutect2_stats:\t1 minutes \n",
      "get_pileup_summaries:\t19 minutes \n",
      "base_recalibrator_pass1:\t28 minutes \n",
      "concatenate_haplotypecaller:\t2 minutes \n"
     ]
    }
   ],
   "source": [
    "for rule in exec_time_stat_dict : \n",
    "    print(f\"{rule}:\\t{ceil(max(exec_time_stat_dict[rule])/60)} minutes \")"
   ]
  },
  {
   "cell_type": "code",
   "execution_count": 33,
   "id": "7bd95c5c-f6ab-491e-9079-c76769768c6c",
   "metadata": {},
   "outputs": [
    {
     "name": "stdout",
     "output_type": "stream",
     "text": [
      "x23_RPE_1_BRCA_WT_UV_D_6_x_1.fastq.gz : 25G\n",
      "x23_RPE_1_BRCA_KO_UV_D_4_x_2.fastq.gz : 26G\n",
      "x23_RPE_1_BRCA_KO_UV_D_3_x_1.fastq.gz : 25G\n",
      "x23_RPE_1_BRCA_WT_UV_D_4_x_2.fastq.gz : 26G\n",
      "x23_RPE_1_BRCA_KO_UV_D_3_x_2.fastq.gz : 26G\n",
      "x23_RPE_1_BRCA_WT_UV_D_3_x_1.fastq.gz : 22G\n",
      "x23_RPE_1_BRCA_KO_UV_D_4_x_1.fastq.gz : 25G\n",
      "x23_RPE_1_BRCA_KO_UV_D_5_x_1.fastq.gz : 25G\n",
      "x23_RPE_1_BRCA_WT_UV_D_3_x_2.fastq.gz : 23G\n",
      "x23_RPE_1_BRCA_WT_UV_D_4_x_1.fastq.gz : 25G\n",
      "x23_RPE_1_BRCA_WT_UV_D_6_x_2.fastq.gz : 27G\n",
      "x23_RPE_1_BRCA_KO_UV_D_5_x_2.fastq.gz : 25G\n"
     ]
    }
   ],
   "source": [
    "bt2G = lambda f : ceil(os.stat(f).st_size / 1024 / 1024 / 1024)\n",
    "\n",
    "for sample_file in os.listdir(f\"{working_dir}/DNA_samples\") :\n",
    "    file_size_G = bt2G(f\"{working_dir}/DNA_samples/{sample_file}\")\n",
    "    print(f\"{sample_file} : {file_size_G}G\")"
   ]
  },
  {
   "cell_type": "code",
   "execution_count": 35,
   "id": "53bcf7a7-714c-4bf3-adcd-98c71d058bec",
   "metadata": {},
   "outputs": [
    {
     "name": "stdout",
     "output_type": "stream",
     "text": [
      "27\n"
     ]
    }
   ],
   "source": [
    "max_file_size_G = max([ bt2G(f\"{working_dir}/DNA_samples/{sample_file}\") for sample_file in os.listdir(f\"{working_dir}/DNA_samples\") ])\n",
    "print(max_file_size_G)"
   ]
  }
 ],
 "metadata": {
  "kernelspec": {
   "display_name": "Python 3 (ipykernel)",
   "language": "python",
   "name": "python3"
  },
  "language_info": {
   "codemirror_mode": {
    "name": "ipython",
    "version": 3
   },
   "file_extension": ".py",
   "mimetype": "text/x-python",
   "name": "python",
   "nbconvert_exporter": "python",
   "pygments_lexer": "ipython3",
   "version": "3.10.12"
  }
 },
 "nbformat": 4,
 "nbformat_minor": 5
}
